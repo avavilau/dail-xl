{
 "cells": [
  {
   "cell_type": "code",
   "id": "initial_id",
   "metadata": {
    "collapsed": true,
    "ExecuteTime": {
     "end_time": "2024-12-23T11:17:04.727436Z",
     "start_time": "2024-12-23T11:17:03.978394Z"
    }
   },
   "source": "import pandas as pd",
   "outputs": [],
   "execution_count": 1
  },
  {
   "metadata": {
    "ExecuteTime": {
     "end_time": "2024-12-23T11:17:47.950852Z",
     "start_time": "2024-12-23T11:17:47.806551Z"
    }
   },
   "cell_type": "code",
   "source": "questions = pd.read_excel(\"questions.xlsx\")",
   "id": "fb0dacff3a677ef2",
   "outputs": [],
   "execution_count": 3
  },
  {
   "metadata": {
    "ExecuteTime": {
     "end_time": "2024-12-23T11:18:13.214641Z",
     "start_time": "2024-12-23T11:18:13.211523Z"
    }
   },
   "cell_type": "code",
   "source": "questions.columns",
   "id": "9be959ceeca982a1",
   "outputs": [
    {
     "data": {
      "text/plain": [
       "Index(['#', 'Name', 'Query', 'Revisited by o1', 'Without references'], dtype='object')"
      ]
     },
     "execution_count": 5,
     "metadata": {},
     "output_type": "execute_result"
    }
   ],
   "execution_count": 5
  },
  {
   "metadata": {
    "ExecuteTime": {
     "end_time": "2024-12-23T11:19:15.505825Z",
     "start_time": "2024-12-23T11:19:15.503063Z"
    }
   },
   "cell_type": "code",
   "source": [
    "# print all questions in format Name: {content}, Triggers: 'Query', 'Revisited by o1', 'Without references'\n",
    "for index, row in questions.iterrows():\n",
    "    print(\n",
    "        f\"Name: {row['Name']}, Triggers: {row['Query']}, {row['Revisited by o1']}, {row['Without references']}\"\n",
    "    )"
   ],
   "id": "4dac969c77c20c22",
   "outputs": [
    {
     "name": "stdout",
     "output_type": "stream",
     "text": [
      "Name: Advertiser Counts by Dimension, Triggers: Produce advertiser counts for each possible dimension (aggregating by year). List the dimensions by YoY change in count in descending order., First, calculate the total number of advertisers per year for every dimension. For that please define the list of the dimensions. Then, rank these dimensions according to the largest (absolute) increase in advertiser count from one year to the next (i.e., in descending order of year-over-year change)., Calculate the total number of advertisers, aggregated by year, for each dimension in the dataset (e.g., Platform, Category_Mapped, Rita Top-Level Segment, etc.). Then, rank these dimensions according to the largest (absolute) year-over-year increase in advertiser count, in descending order.\n",
      "Name: Top-Level Dimensions and YoY Revenue Impact, Triggers: Describe greatest contributors to YoY revenue growth/decline within the following dimensions – Platform, Category_Mapped, Rita Top-Level Segment, observing that each of these dimensions are at the top of the following dimension hierarchies: a. Media Type -> Platform -> Business Unit -> Network b. Category_Mapped -> Subcategory_Mapped c. Rita Top-Level Segment -> Rita Segment (Thus – which Business Unit contributed/detracted most/least to each Platform YoY revenue growth? Etc.), Looking at the three high-level dimensions—Platform, Category_Mapped, and Rita Top-Level Segment—determine which specific items under each dimension had the largest positive or negative impact on year-over-year revenue. Use the corresponding hierarchy to break it down further (e.g., under ‘Platform,’ see which Business Units, and then which Networks within those Business Units, contributed most or least to the YoY change)., Identify which categories within the following hierarchies contributed the most to overall year-over-year revenue growth or decline: Media Type → Platform → Business Unit → Network, Category_Mapped → Subcategory_Mapped, Rita Top-Level Segment → Rita Segment. For instance, under ‘Platform,’ determine which Business Units and then which Networks most strongly drove or reduced YoY revenue.\n",
      "Name: Hierarchy-Wide YoY Growth Contribution, Triggers: Continuing with the 1st question and using the hierarchy above, list all members of each hierarchy recursively in the order of greatest contribution to YoY growth, listing YoY % change in each., Using the same hierarchy as in question #2, list every member (top level down to sub-levels) in order of their impact on YoY revenue growth. Alongside each member, include the percentage change from the previous year., Using the same hierarchical structure—(1) Media Type → Platform → Business Unit → Network, (2) Category_Mapped → Subcategory_Mapped, and (3) Rita Top-Level Segment → Rita Segment—list every member within each hierarchy in order of their impact on YoY revenue growth. Alongside each member, include its percentage change from the previous year.\n",
      "Name: Top and Bottom Advertisers for YoY Change, Triggers: Continuing with the 2nd question, list advertisers that contributed most to the observed YoY changes. List top 10 advertisers that either contributed or detracted YoY revenue in each hierarchy (at each level – i.e. both at the Network level and Platform level)., For each of the hierarchical levels mentioned in question #2 (e.g., Platform, Business Unit, Network), identify the top 10 advertisers whose YoY revenue change (positive or negative) had the greatest impact. Provide separate lists for those who drove the largest gains and those who drove the largest declines in each hierarchy., For each level of the hierarchies mentioned below, list the top 10 advertisers whose year-over-year revenue change (positive or negative) had the greatest impact. Provide separate lists for those who drove the largest gains and those who drove the largest declines. Use these hierarchies for guidance: Media Type → Platform → Business Unit → Network, etc.\n",
      "Name: Quarterly Revenue Patterns and Seasonality Stability, Triggers: Quantify quarterly revenue fluctuations in both years by the following dimensions – Platform, Business Unit, Network, Order Type, Automation, Subcategory_Mapped, Holdco_Mapped, Homogenized Marketplace, Sales Team, Final PM, Media Type. List dimensions that have the most stable/similar seasonal fluctuations, and the ones that are least stable., Examine quarterly revenue patterns for each of the following dimensions across both years: Platform, Business Unit, Network, Order Type, Automation, Subcategory_Mapped, Holdco_Mapped, Homogenized Marketplace, Sales Team, Final PM, and Media Type. Identify which dimensions show the most consistent (stable) seasonal trends and which show the most variability from quarter to quarter., Examine quarterly revenue patterns across two different years for each of the following dimensions: Platform, Business Unit, Network, Order Type, Automation, Subcategory_Mapped, Holdco_Mapped, Homogenized Marketplace, Sales Team, Final PM, and Media Type. Determine which dimensions exhibit the most consistent (stable) seasonal trends and which exhibit the most variability from quarter to quarter.\n",
      "Name: Assigning a Seasonality Score, Triggers: Create a relative seasonality coefficient from 0 to 10 (0=no seasonality, 10 – most seasonality). Based on the data, averaging both years, assign this coefficient to all of the above dimensions (question 3)., Develop a 0–10 ‘seasonality score’ for each of the dimensions listed in question #5. A score of 0 means there is virtually no seasonal variation, and 10 means strong seasonal variation. Calculate these scores by averaging the data for both years, then assign a final score to every dimension., Develop a 0–10 ‘seasonality score’ for each dimension—where 0 means no noticeable seasonal variation and 10 indicates strong seasonal variation—by averaging data across two years. Assign this seasonality score to each of the following dimensions: Platform, Business Unit, Network, Order Type, Automation, Subcategory_Mapped, Holdco_Mapped, Homogenized Marketplace, etc.\n",
      "Name: Clustering Advertisers by Spend/Revenue and Other Variables, Triggers: Cluster advertisers by their relative quarterly spend and revenue ranking. Create another cluster based on Homogenized Marketplace and Order Type. Are there significant overlaps in these clusters? What can be deduced based on these observations?, Form groups (clusters) of advertisers according to their rankings in quarterly spend and revenue. Then, create a second set of clusters based on Homogenized Marketplace and Order Type. Compare the two sets of clusters to see if there is significant overlap. Discuss any insights or inferences you can draw from these similarities or differences., Cluster advertisers based on their relative quarterly spend and revenue rankings. Separately, create clusters based on Homogenized Marketplace and Order Type. Compare these two sets of clusters to identify any significant overlaps. Discuss insights or inferences that arise from how these groups align or differ.\n",
      "Name: Impact of Media Type on Advertiser Clusters, Triggers: Add Media Type as another dimension to be included in question 6. Does it significantly change the shape of the resulting advertiser clusters?, Include Media Type as an additional factor in the clustering process from question #7. Analyze whether adding this dimension changes which advertisers fall into each cluster. Summarize if and how it alters the grouping structure., Include Media Type as an additional factor in the clustering process described above (i.e., in addition to quarterly spend, revenue ranking, Homogenized Marketplace, and Order Type). Analyze whether adding Media Type changes which advertisers fall into each cluster. Summarize how (if at all) it alters the grouping structure.\n",
      "Name: Patterns in Lost vs. Newly Gained Advertisers, Triggers: Using dimensions listed in question #4 identify any prevalent patterns in a “typical” advertiser that we lost from FY22 to FY23. Do the same for new advertisers that we gained in FY23., Using the same set of dimensions as in question #4 (Platform, Network, etc.), describe the common characteristics of advertisers who did not return in FY23 (i.e., those lost from FY22). Then, do a similar profile analysis for advertisers newly added in FY23. Highlight any notable trends or traits for each group., Identify the common characteristics of advertisers who did not return (i.e., were lost) from FY22 to FY23, looking at dimensions such as Platform, Business Unit, Network, Order Type, Automation, Subcategory_Mapped, Holdco_Mapped, Homogenized Marketplace, Sales Team, Final PM, and Media Type. Then, perform the same analysis to determine common traits of advertisers who joined in FY23.\n",
      "Name: Direct vs. Agency Buys and YoY Trends, Triggers: Identify advertisers that buy direct (Holdco_Mapped = CLIENT DIRECT) and also go through an agency. YoY – are advertisers on the whole buying more directly or through an agency? Which agencies gained most in conversion from direct to agency-assisted business among their advertisers? Which Holdco_Mapped gained/lost the most?, Find which advertisers purchase media both as direct clients (Holdco_Mapped = ‘CLIENT DIRECT’) and via an agency. Compare year-over-year results to see if overall spending is shifting toward direct buys or agency buys. Determine which agencies have attracted the most business from advertisers who switched from direct to agency purchasing. Also, identify which holding company (Holdco_Mapped) or direct client group saw the largest net changes—whether gains or losses—in this shift., Determine which advertisers purchase media both as direct clients (Holdco_Mapped = ‘CLIENT DIRECT’) and through an agency. Compare year-over-year results to see if overall spending is shifting more toward direct buys or agency-assisted buys. Identify which agencies have gained the most business from advertisers who switched from direct to agency purchasing.\n"
     ]
    }
   ],
   "execution_count": 7
  },
  {
   "metadata": {
    "ExecuteTime": {
     "end_time": "2024-12-23T18:50:06.015905Z",
     "start_time": "2024-12-23T18:50:06.008899Z"
    }
   },
   "cell_type": "code",
   "source": "questions.head()",
   "id": "6e18ae37a9cae319",
   "outputs": [
    {
     "data": {
      "text/plain": [
       "   #                                               Name  \\\n",
       "0  1                     Advertiser Counts by Dimension   \n",
       "1  2        Top-Level Dimensions and YoY Revenue Impact   \n",
       "2  3             Hierarchy-Wide YoY Growth Contribution   \n",
       "3  4          Top and Bottom Advertisers for YoY Change   \n",
       "4  5  Quarterly Revenue Patterns and Seasonality Sta...   \n",
       "\n",
       "                                               Query  \\\n",
       "0  Produce advertiser counts for each possible di...   \n",
       "1  Describe greatest contributors to YoY revenue ...   \n",
       "2  Continuing with the 1st question and using the...   \n",
       "3  Continuing with the 2nd question, list adverti...   \n",
       "4  Quantify quarterly revenue fluctuations in bot...   \n",
       "\n",
       "                                     Revisited by o1  \\\n",
       "0  First, calculate the total number of advertise...   \n",
       "1  Looking at the three high-level dimensions—Pla...   \n",
       "2  Using the same hierarchy as in question #2, li...   \n",
       "3  For each of the hierarchical levels mentioned ...   \n",
       "4  Examine quarterly revenue patterns for each of...   \n",
       "\n",
       "                                  Without references  \n",
       "0  Calculate the total number of advertisers, agg...  \n",
       "1  Identify which categories within the following...  \n",
       "2  Using the same hierarchical structure—(1) Medi...  \n",
       "3  For each level of the hierarchies mentioned be...  \n",
       "4  Examine quarterly revenue patterns across two ...  "
      ],
      "text/html": [
       "<div>\n",
       "<style scoped>\n",
       "    .dataframe tbody tr th:only-of-type {\n",
       "        vertical-align: middle;\n",
       "    }\n",
       "\n",
       "    .dataframe tbody tr th {\n",
       "        vertical-align: top;\n",
       "    }\n",
       "\n",
       "    .dataframe thead th {\n",
       "        text-align: right;\n",
       "    }\n",
       "</style>\n",
       "<table border=\"1\" class=\"dataframe\">\n",
       "  <thead>\n",
       "    <tr style=\"text-align: right;\">\n",
       "      <th></th>\n",
       "      <th>#</th>\n",
       "      <th>Name</th>\n",
       "      <th>Query</th>\n",
       "      <th>Revisited by o1</th>\n",
       "      <th>Without references</th>\n",
       "    </tr>\n",
       "  </thead>\n",
       "  <tbody>\n",
       "    <tr>\n",
       "      <th>0</th>\n",
       "      <td>1</td>\n",
       "      <td>Advertiser Counts by Dimension</td>\n",
       "      <td>Produce advertiser counts for each possible di...</td>\n",
       "      <td>First, calculate the total number of advertise...</td>\n",
       "      <td>Calculate the total number of advertisers, agg...</td>\n",
       "    </tr>\n",
       "    <tr>\n",
       "      <th>1</th>\n",
       "      <td>2</td>\n",
       "      <td>Top-Level Dimensions and YoY Revenue Impact</td>\n",
       "      <td>Describe greatest contributors to YoY revenue ...</td>\n",
       "      <td>Looking at the three high-level dimensions—Pla...</td>\n",
       "      <td>Identify which categories within the following...</td>\n",
       "    </tr>\n",
       "    <tr>\n",
       "      <th>2</th>\n",
       "      <td>3</td>\n",
       "      <td>Hierarchy-Wide YoY Growth Contribution</td>\n",
       "      <td>Continuing with the 1st question and using the...</td>\n",
       "      <td>Using the same hierarchy as in question #2, li...</td>\n",
       "      <td>Using the same hierarchical structure—(1) Medi...</td>\n",
       "    </tr>\n",
       "    <tr>\n",
       "      <th>3</th>\n",
       "      <td>4</td>\n",
       "      <td>Top and Bottom Advertisers for YoY Change</td>\n",
       "      <td>Continuing with the 2nd question, list adverti...</td>\n",
       "      <td>For each of the hierarchical levels mentioned ...</td>\n",
       "      <td>For each level of the hierarchies mentioned be...</td>\n",
       "    </tr>\n",
       "    <tr>\n",
       "      <th>4</th>\n",
       "      <td>5</td>\n",
       "      <td>Quarterly Revenue Patterns and Seasonality Sta...</td>\n",
       "      <td>Quantify quarterly revenue fluctuations in bot...</td>\n",
       "      <td>Examine quarterly revenue patterns for each of...</td>\n",
       "      <td>Examine quarterly revenue patterns across two ...</td>\n",
       "    </tr>\n",
       "  </tbody>\n",
       "</table>\n",
       "</div>"
      ]
     },
     "execution_count": 8,
     "metadata": {},
     "output_type": "execute_result"
    }
   ],
   "execution_count": 8
  },
  {
   "metadata": {
    "ExecuteTime": {
     "end_time": "2024-12-23T18:51:32.548685Z",
     "start_time": "2024-12-23T18:51:32.545502Z"
    }
   },
   "cell_type": "code",
   "source": "repr(questions.head())",
   "id": "4a4088a0c94cb1b3",
   "outputs": [
    {
     "data": {
      "text/plain": [
       "'   #                                               Name  \\\\\\n0  1                     Advertiser Counts by Dimension   \\n1  2        Top-Level Dimensions and YoY Revenue Impact   \\n2  3             Hierarchy-Wide YoY Growth Contribution   \\n3  4          Top and Bottom Advertisers for YoY Change   \\n4  5  Quarterly Revenue Patterns and Seasonality Sta...   \\n\\n                                               Query  \\\\\\n0  Produce advertiser counts for each possible di...   \\n1  Describe greatest contributors to YoY revenue ...   \\n2  Continuing with the 1st question and using the...   \\n3  Continuing with the 2nd question, list adverti...   \\n4  Quantify quarterly revenue fluctuations in bot...   \\n\\n                                     Revisited by o1  \\\\\\n0  First, calculate the total number of advertise...   \\n1  Looking at the three high-level dimensions—Pla...   \\n2  Using the same hierarchy as in question #2, li...   \\n3  For each of the hierarchical levels mentioned ...   \\n4  Examine quarterly revenue patterns for each of...   \\n\\n                                  Without references  \\n0  Calculate the total number of advertisers, agg...  \\n1  Identify which categories within the following...  \\n2  Using the same hierarchical structure—(1) Medi...  \\n3  For each level of the hierarchies mentioned be...  \\n4  Examine quarterly revenue patterns across two ...  '"
      ]
     },
     "execution_count": 11,
     "metadata": {},
     "output_type": "execute_result"
    }
   ],
   "execution_count": 11
  },
  {
   "metadata": {},
   "cell_type": "code",
   "outputs": [],
   "execution_count": null,
   "source": "",
   "id": "dedb6863a7dde5f0"
  }
 ],
 "metadata": {
  "kernelspec": {
   "display_name": "Python 3",
   "language": "python",
   "name": "python3"
  },
  "language_info": {
   "codemirror_mode": {
    "name": "ipython",
    "version": 2
   },
   "file_extension": ".py",
   "mimetype": "text/x-python",
   "name": "python",
   "nbconvert_exporter": "python",
   "pygments_lexer": "ipython2",
   "version": "2.7.6"
  }
 },
 "nbformat": 4,
 "nbformat_minor": 5
}
